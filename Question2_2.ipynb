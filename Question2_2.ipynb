{
 "cells": [
  {
   "cell_type": "code",
   "execution_count": null,
   "metadata": {},
   "outputs": [],
   "source": [
    "#quote= -1.116-251.5539\"121\"+194.7876\"122\"+98.2323\"128\"+105.5981\"200\"+19.6917\"202\""
   ]
  },
  {
   "cell_type": "code",
   "execution_count": 2,
   "metadata": {},
   "outputs": [],
   "source": [
    "import pandas as pd\n",
    "import numpy as np\n",
    "import matplotlib.pyplot as plt\n",
    "import seaborn as sns\n",
    "from sklearn import datasets, linear_model\n",
    "from sklearn.metrics import mean_squared_error, r2_score\n",
    "from sklearn.model_selection import train_test_split\n",
    "import statsmodels.api as sm\n",
    "%matplotlib inline"
   ]
  },
  {
   "cell_type": "code",
   "execution_count": 3,
   "metadata": {},
   "outputs": [
    {
     "data": {
      "text/html": [
       "<div>\n",
       "<style scoped>\n",
       "    .dataframe tbody tr th:only-of-type {\n",
       "        vertical-align: middle;\n",
       "    }\n",
       "\n",
       "    .dataframe tbody tr th {\n",
       "        vertical-align: top;\n",
       "    }\n",
       "\n",
       "    .dataframe thead th {\n",
       "        text-align: right;\n",
       "    }\n",
       "</style>\n",
       "<table border=\"1\" class=\"dataframe\">\n",
       "  <thead>\n",
       "    <tr style=\"text-align: right;\">\n",
       "      <th></th>\n",
       "      <th>id</th>\n",
       "      <th>121</th>\n",
       "      <th>122</th>\n",
       "      <th>128</th>\n",
       "      <th>200</th>\n",
       "      <th>202</th>\n",
       "    </tr>\n",
       "  </thead>\n",
       "  <tbody>\n",
       "    <tr>\n",
       "      <th>0</th>\n",
       "      <td>1101</td>\n",
       "      <td>0.0020</td>\n",
       "      <td>0.0032</td>\n",
       "      <td>-0.0042</td>\n",
       "      <td>0.0219</td>\n",
       "      <td>0.0902</td>\n",
       "    </tr>\n",
       "    <tr>\n",
       "      <th>1</th>\n",
       "      <td>1201</td>\n",
       "      <td>0.0000</td>\n",
       "      <td>0.0000</td>\n",
       "      <td>-0.0097</td>\n",
       "      <td>-0.0404</td>\n",
       "      <td>-0.0635</td>\n",
       "    </tr>\n",
       "    <tr>\n",
       "      <th>2</th>\n",
       "      <td>1215</td>\n",
       "      <td>0.0006</td>\n",
       "      <td>0.0005</td>\n",
       "      <td>-0.0023</td>\n",
       "      <td>0.0339</td>\n",
       "      <td>0.0719</td>\n",
       "    </tr>\n",
       "    <tr>\n",
       "      <th>3</th>\n",
       "      <td>1440</td>\n",
       "      <td>0.0000</td>\n",
       "      <td>0.0001</td>\n",
       "      <td>0.0010</td>\n",
       "      <td>-0.0006</td>\n",
       "      <td>0.1420</td>\n",
       "    </tr>\n",
       "    <tr>\n",
       "      <th>4</th>\n",
       "      <td>1466</td>\n",
       "      <td>0.0000</td>\n",
       "      <td>0.0000</td>\n",
       "      <td>-0.0031</td>\n",
       "      <td>0.0623</td>\n",
       "      <td>0.5420</td>\n",
       "    </tr>\n",
       "  </tbody>\n",
       "</table>\n",
       "</div>"
      ],
      "text/plain": [
       "     id     121     122     128     200     202\n",
       "0  1101  0.0020  0.0032 -0.0042  0.0219  0.0902\n",
       "1  1201  0.0000  0.0000 -0.0097 -0.0404 -0.0635\n",
       "2  1215  0.0006  0.0005 -0.0023  0.0339  0.0719\n",
       "3  1440  0.0000  0.0001  0.0010 -0.0006  0.1420\n",
       "4  1466  0.0000  0.0000 -0.0031  0.0623  0.5420"
      ]
     },
     "execution_count": 3,
     "metadata": {},
     "output_type": "execute_result"
    }
   ],
   "source": [
    "predict= pd.read_excel(r'/Users/jessiecai/Desktop/筆試題目/predictor.xlsx')\n",
    "predict.head()"
   ]
  },
  {
   "cell_type": "code",
   "execution_count": 4,
   "metadata": {},
   "outputs": [
    {
     "data": {
      "text/html": [
       "<div>\n",
       "<style scoped>\n",
       "    .dataframe tbody tr th:only-of-type {\n",
       "        vertical-align: middle;\n",
       "    }\n",
       "\n",
       "    .dataframe tbody tr th {\n",
       "        vertical-align: top;\n",
       "    }\n",
       "\n",
       "    .dataframe thead th {\n",
       "        text-align: right;\n",
       "    }\n",
       "</style>\n",
       "<table border=\"1\" class=\"dataframe\">\n",
       "  <thead>\n",
       "    <tr style=\"text-align: right;\">\n",
       "      <th></th>\n",
       "      <th>id</th>\n",
       "      <th>121</th>\n",
       "      <th>122</th>\n",
       "      <th>128</th>\n",
       "      <th>200</th>\n",
       "      <th>202</th>\n",
       "      <th>pre_quote</th>\n",
       "    </tr>\n",
       "  </thead>\n",
       "  <tbody>\n",
       "    <tr>\n",
       "      <th>0</th>\n",
       "      <td>1101</td>\n",
       "      <td>0.0020</td>\n",
       "      <td>0.0032</td>\n",
       "      <td>-0.0042</td>\n",
       "      <td>0.0219</td>\n",
       "      <td>0.0902</td>\n",
       "      <td>2.680427</td>\n",
       "    </tr>\n",
       "    <tr>\n",
       "      <th>1</th>\n",
       "      <td>1201</td>\n",
       "      <td>0.0000</td>\n",
       "      <td>0.0000</td>\n",
       "      <td>-0.0097</td>\n",
       "      <td>-0.0404</td>\n",
       "      <td>-0.0635</td>\n",
       "      <td>-7.585440</td>\n",
       "    </tr>\n",
       "    <tr>\n",
       "      <th>2</th>\n",
       "      <td>1215</td>\n",
       "      <td>0.0006</td>\n",
       "      <td>0.0005</td>\n",
       "      <td>-0.0023</td>\n",
       "      <td>0.0339</td>\n",
       "      <td>0.0719</td>\n",
       "      <td>3.600136</td>\n",
       "    </tr>\n",
       "    <tr>\n",
       "      <th>3</th>\n",
       "      <td>1440</td>\n",
       "      <td>0.0000</td>\n",
       "      <td>0.0001</td>\n",
       "      <td>0.0010</td>\n",
       "      <td>-0.0006</td>\n",
       "      <td>0.1420</td>\n",
       "      <td>1.734574</td>\n",
       "    </tr>\n",
       "    <tr>\n",
       "      <th>4</th>\n",
       "      <td>1466</td>\n",
       "      <td>0.0000</td>\n",
       "      <td>0.0000</td>\n",
       "      <td>-0.0031</td>\n",
       "      <td>0.0623</td>\n",
       "      <td>0.5420</td>\n",
       "      <td>15.831143</td>\n",
       "    </tr>\n",
       "  </tbody>\n",
       "</table>\n",
       "</div>"
      ],
      "text/plain": [
       "     id     121     122     128     200     202  pre_quote\n",
       "0  1101  0.0020  0.0032 -0.0042  0.0219  0.0902   2.680427\n",
       "1  1201  0.0000  0.0000 -0.0097 -0.0404 -0.0635  -7.585440\n",
       "2  1215  0.0006  0.0005 -0.0023  0.0339  0.0719   3.600136\n",
       "3  1440  0.0000  0.0001  0.0010 -0.0006  0.1420   1.734574\n",
       "4  1466  0.0000  0.0000 -0.0031  0.0623  0.5420  15.831143"
      ]
     },
     "execution_count": 4,
     "metadata": {},
     "output_type": "execute_result"
    }
   ],
   "source": [
    "predict['pre_quote']=-1.116-251.5539*predict[121]+194.7876*predict[122]+98.2323*predict[128]+105.5981*predict[200]+19.6917*predict[202]\n",
    "predict.head()"
   ]
  },
  {
   "cell_type": "code",
   "execution_count": 12,
   "metadata": {},
   "outputs": [],
   "source": [
    "base=28/12\n",
    "def win_stock(base):\n",
    "    wins=[ ]\n",
    "    for i in range(len(predict['id'])):\n",
    "        if predict['pre_quote'][i]>base:\n",
    "            win=predict['id'][i]\n",
    "        else:\n",
    "            None\n",
    "        wins.append(win)\n",
    "    return wins"
   ]
  },
  {
   "cell_type": "code",
   "execution_count": 16,
   "metadata": {},
   "outputs": [
    {
     "data": {
      "text/plain": [
       "array([1101, 1215, 1466, 1476, 1477, 1515, 1589, 1598, 1605, 1717, 1734,\n",
       "       1781, 1904, 2013, 2015, 2031, 2105, 2201, 2227, 2308, 2313, 2314,\n",
       "       2347, 2348, 2353, 2357, 2363, 2368, 2377, 2379, 2385, 2387, 2390,\n",
       "       2402, 2406, 2417, 2421, 2438, 2439, 2448, 2456, 2601, 2603, 2723,\n",
       "       2855, 2885, 3014, 3034, 3037, 3042, 3046, 3064, 3078, 3163, 3189,\n",
       "       3228, 3231, 3259, 3268, 3324, 3339, 3465, 3483, 3512, 3520, 3529,\n",
       "       3552, 3673, 3708, 4502, 4906, 4958, 4968, 5306, 5310, 5434, 5450,\n",
       "       5457, 5474, 5880, 6020, 6118, 6148, 6165, 6171, 6176, 6187, 6225,\n",
       "       6233, 6244, 6251, 6414, 6441, 6443, 8027, 8046, 8092, 8436, 8444,\n",
       "       8464, 8499, 9802, 9919, 9935, 9938, 9951, 9958])"
      ]
     },
     "execution_count": 16,
     "metadata": {},
     "output_type": "execute_result"
    }
   ],
   "source": [
    "#年報酬率超過28％的標的\n",
    "return_year=pd.unique(win_stock(base))\n",
    "return_year"
   ]
  }
 ],
 "metadata": {
  "kernelspec": {
   "display_name": "Python 3",
   "language": "python",
   "name": "python3"
  },
  "language_info": {
   "codemirror_mode": {
    "name": "ipython",
    "version": 3
   },
   "file_extension": ".py",
   "mimetype": "text/x-python",
   "name": "python",
   "nbconvert_exporter": "python",
   "pygments_lexer": "ipython3",
   "version": "3.7.3"
  }
 },
 "nbformat": 4,
 "nbformat_minor": 2
}
